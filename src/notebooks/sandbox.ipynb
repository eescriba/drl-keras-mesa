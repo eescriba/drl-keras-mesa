{
  "nbformat": 4,
  "nbformat_minor": 0,
  "metadata": {
    "language_info": {
      "codemirror_mode": {
        "name": "ipython",
        "version": 3
      },
      "file_extension": ".py",
      "mimetype": "text/x-python",
      "name": "python",
      "nbconvert_exporter": "python",
      "pygments_lexer": "ipython3",
      "version": "3.8.2-final"
    },
    "orig_nbformat": 2,
    "kernelspec": {
      "name": "Python 3.8.2 64-bit ('drl-keras-mesa': venv)",
      "display_name": "Python 3.8.2 64-bit ('drl-keras-mesa': venv)",
      "metadata": {
        "interpreter": {
          "hash": "57ecadd80644193cdd4321ea58c039ba219334e9a136e552e824e28ff833f489"
        }
      }
    },
    "colab": {
      "name": "sandbox.ipynb",
      "provenance": []
    },
    "accelerator": "GPU"
  },
  "cells": [
    {
      "cell_type": "markdown",
      "metadata": {
        "id": "GP3h9DM6aLGq"
      },
      "source": [
        "# Sandbox"
      ]
    },
    {
      "cell_type": "code",
      "metadata": {
        "id": "bXCcA5sqaLGs"
      },
      "source": [
        "import numpy as np"
      ],
      "execution_count": 1,
      "outputs": []
    },
    {
      "cell_type": "markdown",
      "metadata": {
        "id": "yz0p8bR6aama"
      },
      "source": [
        "Testing Colab"
      ]
    }
  ]
}