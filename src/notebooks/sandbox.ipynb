{
  "nbformat": 4,
  "nbformat_minor": 0,
  "metadata": {
    "language_info": {
      "codemirror_mode": {
        "name": "ipython",
        "version": 3
      },
      "file_extension": ".py",
      "mimetype": "text/x-python",
      "name": "python",
      "nbconvert_exporter": "python",
      "pygments_lexer": "ipython3",
      "version": "3.8.2-final"
    },
    "orig_nbformat": 2,
    "kernelspec": {
      "name": "Python 3.8.2 64-bit ('drl-keras-mesa': pipenv)",
      "display_name": "Python 3.8.2 64-bit ('drl-keras-mesa': pipenv)",
      "metadata": {
        "interpreter": {
          "hash": "57ecadd80644193cdd4321ea58c039ba219334e9a136e552e824e28ff833f489"
        }
      }
    },
    "colab": {
      "name": "sandbox.ipynb",
      "provenance": []
    },
    "accelerator": "GPU"
  },
  "cells": [
    {
      "cell_type": "markdown",
      "metadata": {
        "id": "GP3h9DM6aLGq"
      },
      "source": [
        "# Sandbox"
      ]
    },
    {
      "cell_type": "code",
      "metadata": {
        "id": "bXCcA5sqaLGs"
      },
      "source": [
        "import numpy as np"
      ],
      "execution_count": 1,
      "outputs": []
    },
    {
      "source": [
        "import gym\n",
        "from taxi_ql.env import MesaTaxiEnv\n",
        "\n",
        "env = "
      ],
      "cell_type": "code",
      "metadata": {
        "id": "yz0p8bR6aama"
      },
      "execution_count": 2,
      "outputs": []
    },
    {
      "cell_type": "code",
      "execution_count": 5,
      "metadata": {},
      "outputs": [
        {
          "output_type": "stream",
          "name": "stdout",
          "text": [
            "+---------+\n|\u001b[35mR\u001b[0m: | : :G|\n| : | : : |\n| : : : : |\n| | : |\u001b[43m \u001b[0m: |\n|Y| : |\u001b[34;1mB\u001b[0m: |\n+---------+\n\n"
          ]
        }
      ],
      "source": []
    },
    {
      "cell_type": "code",
      "execution_count": null,
      "metadata": {},
      "outputs": [],
      "source": []
    }
  ]
}