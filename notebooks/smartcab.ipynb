{
  "cells": [
    {
      "cell_type": "markdown",
      "metadata": {
        "id": "fO9547wOqrGb"
      },
      "source": [
        "# SmartCab"
      ]
    },
    {
      "cell_type": "markdown",
      "metadata": {
        "id": "BWzkFkIFqz4C"
      },
      "source": [
        "## Setup"
      ]
    },
    {
      "cell_type": "code",
      "execution_count": null,
      "metadata": {
        "id": "2pLSISOhRLDK"
      },
      "outputs": [],
      "source": [
        "# Colab\n",
        "!rm -r smart-cities-drl\n",
        "!git clone https://github.com/eescriba/smart-cities-drl\n",
        "!cd smart-cities-drl/ && pip install -e .\n",
        "\n",
        "import sys\n",
        "sys.path.insert(0,'./smart-cities-drl/src/')\n",
        "\n",
        "# Local\n",
        "# !pip install -e ..\n",
        "# import sys\n",
        "# sys.path.insert(0,'../src/')"
      ]
    },
    {
      "cell_type": "code",
      "execution_count": 2,
      "metadata": {
        "colab": {
          "base_uri": "https://localhost:8080/"
        },
        "id": "Qv2IiHGYRLDQ",
        "outputId": "66deba64-10b9-4217-e4fd-41cbda5c70a5"
      },
      "outputs": [],
      "source": [
        "import json\n",
        "import shutil\n",
        "import random\n",
        "\n",
        "import gym\n",
        "import ray\n",
        "from ray.tune import run, choice\n",
        "from core.rl import PPOAgent\n",
        "from core.pbt import PbtOptimizer\n",
        "from smartcab.env import SmartCabEnv"
      ]
    },
    {
      "cell_type": "markdown",
      "metadata": {
        "id": "6Hrqtufqq24H"
      },
      "source": [
        "## Proximal Policy Optimization (PPO)"
      ]
    },
    {
      "cell_type": "markdown",
      "metadata": {
        "id": "j0jHuZL9Tgm_"
      },
      "source": [
        "### Tune hyperparameters"
      ]
    },
    {
      "cell_type": "code",
      "execution_count": 3,
      "metadata": {
        "colab": {
          "base_uri": "https://localhost:8080/"
        },
        "id": "cpHcdjslVi9G",
        "outputId": "ff7ef665-f0dc-4242-9b04-446d6b6ad701"
      },
      "outputs": [],
      "source": [
        "ppo = PPOAgent(\"smartcab_ppo_tune\", SmartCabEnv, {})"
      ]
    },
    {
      "cell_type": "code",
      "execution_count": 4,
      "metadata": {
        "id": "49VrIblUM4wT"
      },
      "outputs": [],
      "source": [
        "tune_config = {\n",
        "    \"env\": SmartCabEnv,\n",
        "    \"seed\": 123,\n",
        "    \"num_gpus\": 1,\n",
        "    \"num_workers\": 1,\n",
        "    \"observation_filter\": \"MeanStdFilter\",\n",
        "    \"model\": {\n",
        "        \"free_log_std\": True\n",
        "    },\n",
        "    \"lambda\": 0.95,\n",
        "    \"clip_param\": 0.3,\n",
        "    \"lr\": 5e-5,\n",
        "    \"num_sgd_iter\": choice([10, 20, 30]),\n",
        "    \"sgd_minibatch_size\": choice([128, 256, 512]),\n",
        "    \"train_batch_size\": choice([8000, 16000, 32000])\n",
        "}\n",
        "stop_criteria = {\n",
        "    \"timesteps_total\": 2000000\n",
        "}\n",
        "hyperparam_mutations={\n",
        "    \"lambda\": lambda: random.uniform(0.7, 1.0),\n",
        "    \"clip_param\": lambda: random.uniform(0.1, 0.5),\n",
        "    \"lr\": [1e-3, 5e-4, 1e-4, 5e-5, 1e-5],\n",
        "    \"num_sgd_iter\": lambda: random.randint(1, 30),\n",
        "    \"sgd_minibatch_size\": lambda: random.randint(128, 16384),\n",
        "    \"train_batch_size\": lambda: random.randint(2000, 160000),\n",
        "}\n",
        "pbt = PbtOptimizer(hyperparam_mutations)"
      ]
    },
    {
      "cell_type": "code",
      "execution_count": null,
      "metadata": {
        "colab": {
          "base_uri": "https://localhost:8080/",
          "height": 1000
        },
        "id": "BhEbUSY6Vs-r",
        "outputId": "c189cf53-2fa5-40ea-c7ca-235769b8d87c"
      },
      "outputs": [],
      "source": [
        "ppo.restart()\n",
        "analysis = ppo.tune(tune_config, stop_criteria, scheduler=pbt.scheduler)\n",
        "best_config =  analysis.get_best_config(metric=\"episode_reward_mean\", mode=\"max\")\n",
        "print(\"Best hyperparameters found: \", best_config)"
      ]
    },
    {
      "cell_type": "code",
      "execution_count": null,
      "metadata": {
        "id": "AjOOMnKkZ3Jg"
      },
      "outputs": [],
      "source": [
        "best_config = {\n",
        "    \"observation_filter\": \"MeanStdFilter\",\n",
        "    \"model\": {\"free_log_std\": True},\n",
        "    \"num_sgd_iter\": 10,\n",
        "    \"sgd_minibatch_size\": 128,\n",
        "    \"lambda\": 0.731396,\n",
        "    \"clip_param\": 0.317651,\n",
        "    \"lr\": 5e-05,\n",
        "    \"train_batch_size\": 18812,\n",
        "}"
      ]
    },
    {
      "cell_type": "markdown",
      "metadata": {
        "id": "DyptyrNeTgnA"
      },
      "source": [
        "### Training"
      ]
    },
    {
      "cell_type": "code",
      "execution_count": null,
      "metadata": {
        "id": "rsi17r9uSE-2"
      },
      "outputs": [],
      "source": [
        "ppo = PPOAgent(\"smartcab_ppo_train\", best_config, WasteNetEnv, {})\n",
        "ppo.train(num_iter=200)"
      ]
    },
    {
      "cell_type": "code",
      "execution_count": null,
      "metadata": {
        "id": "SE5CrWozRLDS"
      },
      "outputs": [],
      "source": [
        "policy = ppo.agent.get_policy()\n",
        "model = policy.model\n",
        "print(model.base_model.summary())"
      ]
    },
    {
      "cell_type": "markdown",
      "metadata": {
        "id": "_P4Tl-1zsU2h"
      },
      "source": [
        "### Testing"
      ]
    },
    {
      "cell_type": "code",
      "execution_count": null,
      "metadata": {
        "id": "3_hBOp4kVTQ5"
      },
      "outputs": [],
      "source": [
        "# ppo = PPOAgent(\"smartcab_ppo_test\", best_config, SmartCabEnv, {})\n",
        "# ppo.load(\"checkpoints/checkpoint-best\")\n",
        "ppo.test(num_episodes=1000)"
      ]
    },
    {
      "cell_type": "markdown",
      "metadata": {
        "id": "qVaoPUTNToBF"
      },
      "source": [
        "### Visualization"
      ]
    },
    {
      "cell_type": "code",
      "execution_count": null,
      "metadata": {
        "id": "St6gMyOST3_y"
      },
      "outputs": [],
      "source": [
        "!zip -r /content/ray_results.zip /content/ray_results"
      ]
    },
    {
      "cell_type": "code",
      "execution_count": null,
      "metadata": {
        "id": "_qdEKhi5sWoX"
      },
      "outputs": [],
      "source": [
        "%load_ext tensorboard \n",
        "%tensorboard --logdir=\"/content/ray_results/\""
      ]
    }
  ],
  "metadata": {
    "accelerator": "GPU",
    "colab": {
      "name": "rllib.ipynb",
      "provenance": []
    },
    "kernelspec": {
      "display_name": "Python 3.8.7 64-bit ('venv': venv)",
      "metadata": {
        "interpreter": {
          "hash": "915e8579bc6bc5b7e6bdee387f64d79c54c721fc11f17b28b0b204a29bde1622"
        }
      },
      "name": "python3"
    },
    "language_info": {
      "codemirror_mode": {
        "name": "ipython",
        "version": 3
      },
      "file_extension": ".py",
      "mimetype": "text/x-python",
      "name": "python",
      "nbconvert_exporter": "python",
      "pygments_lexer": "ipython3",
      "version": "3.8.7"
    },
    "orig_nbformat": 2
  },
  "nbformat": 4,
  "nbformat_minor": 0
}