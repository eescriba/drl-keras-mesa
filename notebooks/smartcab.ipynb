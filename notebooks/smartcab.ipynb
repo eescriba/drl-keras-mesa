{
  "nbformat": 4,
  "nbformat_minor": 0,
  "metadata": {
    "language_info": {
      "codemirror_mode": {
        "name": "ipython",
        "version": 3
      },
      "file_extension": ".py",
      "mimetype": "text/x-python",
      "name": "python",
      "nbconvert_exporter": "python",
      "pygments_lexer": "ipython3",
      "version": "3.8.7-final"
    },
    "orig_nbformat": 2,
    "kernelspec": {
      "name": "python3",
      "display_name": "Python 3.8.7 64-bit ('mesa-keras-rl': pipenv)",
      "metadata": {
        "interpreter": {
          "hash": "02f89b5465a516aeca281cdc6934ff926772e9d915d9e8c15a08f584e0cc5517"
        }
      }
    },
    "colab": {
      "name": "taxinet.ipynb",
      "provenance": []
    },
    "accelerator": "GPU"
  },
  "cells": [
    {
      "cell_type": "code",
      "metadata": {
        "id": "bu_Vfvki_I7f"
      },
      "source": [
        "!rm -r smart-cities-drl\n",
        "!git clone https://github.com/eescriba/smart-cities-drl\n",
        "!cd smart-cities-drl/ && pip install -e .\n"
      ],
      "execution_count": null,
      "outputs": []
    },
    {
      "cell_type": "code",
      "metadata": {
        "id": "yytsGCs2_I7k"
      },
      "source": [
        "import gym\n",
        "import numpy as np\n",
        "\n",
        "from tensorflow.keras.models import Sequential\n",
        "from tensorflow.keras.layers import Dense, Activation, Flatten, Embedding, Reshape\n",
        "from tensorflow.keras.optimizers import Adam\n",
        "\n",
        "from rl.agents.dqn import DQNAgent\n",
        "from rl.policy import EpsGreedyQPolicy\n",
        "from rl.memory import SequentialMemory\n",
        "\n",
        "import sys\n",
        "sys.path.insert(0,'./smart-cities-drl/src/')\n",
        "\n",
        "from smartcab.env import SmartCabEnv"
      ],
      "execution_count": 9,
      "outputs": []
    },
    {
      "cell_type": "code",
      "metadata": {
        "id": "rhrdUO3O_I7k",
        "colab": {
          "base_uri": "https://localhost:8080/"
        },
        "outputId": "5f683afe-eef6-4984-cbfa-4adeffb2b19d"
      },
      "source": [
        "ENV_NAME = 'basic'\n",
        "env = SmartCabEnv(file_path=\"smart-cities-drl/src/smartcab/resources/\" + ENV_NAME + \".txt\")\n",
        "env.seed(123)\n",
        "action_size = env.action_space.n\n",
        "env.reset()"
      ],
      "execution_count": 11,
      "outputs": [
        {
          "output_type": "stream",
          "text": [
            "Actions:  6\n",
            "Targets:  4\n",
            "States:  500\n"
          ],
          "name": "stdout"
        },
        {
          "output_type": "execute_result",
          "data": {
            "text/plain": [
              "351"
            ]
          },
          "metadata": {
            "tags": []
          },
          "execution_count": 11
        }
      ]
    },
    {
      "cell_type": "code",
      "metadata": {
        "id": "F90iJIeq_I7l",
        "colab": {
          "base_uri": "https://localhost:8080/"
        },
        "outputId": "fc3191ce-bf7b-4c97-c7ca-8b13a30d35ba"
      },
      "source": [
        "model = Sequential()\n",
        "model.add(Embedding(500, 10, input_length=1))\n",
        "model.add(Reshape((10,)))\n",
        "model.add(Dense(500, activation='relu'))\n",
        "model.add(Dense(500, activation='relu'))\n",
        "model.add(Dense(500, activation='relu'))\n",
        "model.add(Dense(action_size, activation='linear'))\n",
        "print(model.summary())"
      ],
      "execution_count": 12,
      "outputs": [
        {
          "output_type": "stream",
          "text": [
            "Model: \"sequential\"\n",
            "_________________________________________________________________\n",
            "Layer (type)                 Output Shape              Param #   \n",
            "=================================================================\n",
            "embedding (Embedding)        (None, 1, 10)             5000      \n",
            "_________________________________________________________________\n",
            "reshape (Reshape)            (None, 10)                0         \n",
            "_________________________________________________________________\n",
            "dense (Dense)                (None, 500)               5500      \n",
            "_________________________________________________________________\n",
            "dense_1 (Dense)              (None, 500)               250500    \n",
            "_________________________________________________________________\n",
            "dense_2 (Dense)              (None, 500)               250500    \n",
            "_________________________________________________________________\n",
            "dense_3 (Dense)              (None, 6)                 3006      \n",
            "=================================================================\n",
            "Total params: 514,506\n",
            "Trainable params: 514,506\n",
            "Non-trainable params: 0\n",
            "_________________________________________________________________\n",
            "None\n"
          ],
          "name": "stdout"
        }
      ]
    },
    {
      "cell_type": "code",
      "metadata": {
        "id": "9l1uoLNN_I7l"
      },
      "source": [
        "memory = SequentialMemory(limit=50000, window_length=1)\n",
        "policy = EpsGreedyQPolicy()\n",
        "dqn = DQNAgent(model=model, nb_actions=action_size, memory=memory, nb_steps_warmup=500, target_model_update=1e-2, policy=policy)\n",
        "dqn.compile(Adam(lr=1e-3), metrics=['mae'])"
      ],
      "execution_count": 13,
      "outputs": []
    },
    {
      "cell_type": "code",
      "metadata": {
        "id": "lLjtpa4q_I7m"
      },
      "source": [
        "dqn.fit(env, nb_steps=1000000, visualize=False, verbose=1, nb_max_episode_steps=99, log_interval=100000)"
      ],
      "execution_count": null,
      "outputs": []
    },
    {
      "cell_type": "code",
      "metadata": {
        "id": "ugtATgaR_I7m"
      },
      "source": [
        "dqn.save_weights('dqn_{}_weights.h5f'.format(ENV_NAME), overwrite=True)"
      ],
      "execution_count": null,
      "outputs": []
    },
    {
      "cell_type": "code",
      "metadata": {
        "id": "2gjvDutR_I7m"
      },
      "source": [
        "dqn.test(env, nb_episodes=5 , visualize=False, nb_max_episode_steps=99)"
      ],
      "execution_count": null,
      "outputs": []
    }
  ]
}