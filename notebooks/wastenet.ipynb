{
  "nbformat": 4,
  "nbformat_minor": 0,
  "metadata": {
    "language_info": {
      "codemirror_mode": {
        "name": "ipython",
        "version": 3
      },
      "file_extension": ".py",
      "mimetype": "text/x-python",
      "name": "python",
      "nbconvert_exporter": "python",
      "pygments_lexer": "ipython3",
      "version": "3.8.7"
    },
    "orig_nbformat": 2,
    "kernelspec": {
      "name": "python3",
      "display_name": "Python 3.8.7 64-bit ('venv': venv)",
      "metadata": {
        "interpreter": {
          "hash": "915e8579bc6bc5b7e6bdee387f64d79c54c721fc11f17b28b0b204a29bde1622"
        }
      }
    },
    "colab": {
      "name": "rllib.ipynb",
      "provenance": []
    },
    "accelerator": "GPU"
  },
  "cells": [
    {
      "cell_type": "markdown",
      "metadata": {
        "id": "fO9547wOqrGb"
      },
      "source": [
        "# WasteNet"
      ]
    },
    {
      "cell_type": "markdown",
      "metadata": {
        "id": "BWzkFkIFqz4C"
      },
      "source": [
        "## Setup"
      ]
    },
    {
      "cell_type": "code",
      "metadata": {
        "id": "2pLSISOhRLDK",
        "outputId": "e0bb3b05-bed2-404f-fab5-a073d8dabdc5",
        "colab": {
          "base_uri": "https://localhost:8080/"
        }
      },
      "source": [
        "# Colab\n",
        "!rm -r smart-cities-drl\n",
        "!git clone https://github.com/eescriba/smart-cities-drl\n",
        "!cd smart-cities-drl/ && pip install -e .\n",
        "\n",
        "import sys\n",
        "sys.path.insert(0,'./smart-cities-drl/src/')\n",
        "\n",
        "# Local\n",
        "# !pip install -e ..\n",
        "# import sys\n",
        "# sys.path.insert(0,'../src/')"
      ],
      "execution_count": 1,
      "outputs": [
        {
          "output_type": "stream",
          "text": [
            "Successfully installed smart-cities-drl\n"
          ],
          "name": "stdout"
        }
      ]
    },
    {
      "cell_type": "code",
      "metadata": {
        "id": "Qv2IiHGYRLDQ"
      },
      "source": [
        "import json\n",
        "import shutil\n",
        "import random\n",
        "\n",
        "import gym\n",
        "import ray\n",
        "from ray.tune import run, choice\n",
        "from core.rl import PPOAgent\n",
        "from core.pbt import PbtOptimizer\n",
        "from wastenet.env import WasteNetEnv"
      ],
      "execution_count": null,
      "outputs": []
    },
    {
      "cell_type": "markdown",
      "metadata": {
        "id": "6Hrqtufqq24H"
      },
      "source": [
        "## Proximal Policy Optimization (PPO)"
      ]
    },
    {
      "cell_type": "markdown",
      "metadata": {
        "id": "j0jHuZL9Tgm_"
      },
      "source": [
        "### Tune hyperparameters"
      ]
    },
    {
      "cell_type": "code",
      "metadata": {
        "id": "cpHcdjslVi9G",
        "outputId": "a654c15a-4dd2-427e-c9ad-5ba9ed74fc24",
        "colab": {
          "base_uri": "https://localhost:8080/"
        }
      },
      "source": [
        "ppo = PPOAgent(\"wastenet_ppo_tune\", WasteNetEnv, {})"
      ],
      "execution_count": 6,
      "outputs": [
        {
          "output_type": "stream",
          "text": [
            "2021-06-24 10:55:53,793\tINFO services.py:1274 -- View the Ray dashboard at \u001b[1m\u001b[32mhttp://127.0.0.1:8265\u001b[39m\u001b[22m\n",
            "\u001b[2m\u001b[36m(pid=3548)\u001b[0m WARNING:tensorflow:From /usr/local/lib/python3.7/dist-packages/tensorflow_probability/python/internal/variadic_reduce.py:115: calling function (from tensorflow.python.eager.def_function) with experimental_compile is deprecated and will be removed in a future version.\n",
            "\u001b[2m\u001b[36m(pid=3548)\u001b[0m Instructions for updating:\n",
            "\u001b[2m\u001b[36m(pid=3548)\u001b[0m experimental_compile is deprecated, use jit_compile instead\n",
            "\u001b[2m\u001b[36m(pid=3547)\u001b[0m WARNING:tensorflow:From /usr/local/lib/python3.7/dist-packages/tensorflow_probability/python/internal/variadic_reduce.py:115: calling function (from tensorflow.python.eager.def_function) with experimental_compile is deprecated and will be removed in a future version.\n",
            "\u001b[2m\u001b[36m(pid=3547)\u001b[0m Instructions for updating:\n",
            "\u001b[2m\u001b[36m(pid=3547)\u001b[0m experimental_compile is deprecated, use jit_compile instead\n",
            "2021-06-24 10:56:05,651\tWARNING util.py:53 -- Install gputil for GPU system monitoring.\n"
          ],
          "name": "stderr"
        }
      ]
    },
    {
      "cell_type": "code",
      "metadata": {
        "id": "49VrIblUM4wT"
      },
      "source": [
        "tune_config = {\n",
        "    \"env\": WasteNetEnv,\n",
        "    \"seed\": 123,\n",
        "    \"num_gpus\": 1,\n",
        "    \"num_workers\": 1,\n",
        "    \"observation_filter\": \"MeanStdFilter\",\n",
        "    \"model\": {\n",
        "        \"free_log_std\": True\n",
        "    },\n",
        "    \"lambda\": 0.95,\n",
        "    \"clip_param\": 0.3,\n",
        "    \"lr\": 5e-5,\n",
        "    \"num_sgd_iter\": choice([10, 20, 30]),\n",
        "    \"sgd_minibatch_size\": choice([128, 512, 2048]),\n",
        "    \"train_batch_size\": choice([10000, 20000, 40000])\n",
        "}\n",
        "stop_criteria = {\n",
        "    # \"timesteps_total\": 5000000\n",
        "}\n",
        "hyperparam_mutations={\n",
        "    \"lambda\": lambda: random.uniform(0.9, 1.0),\n",
        "    \"clip_param\": lambda: random.uniform(0.1, 0.5),\n",
        "    \"lr\": [1e-3, 5e-4, 1e-4, 5e-5, 1e-5],\n",
        "    \"num_sgd_iter\": lambda: random.randint(1, 30),\n",
        "    \"sgd_minibatch_size\": lambda: random.randint(128, 16384),\n",
        "    \"train_batch_size\": lambda: random.randint(2000, 160000),\n",
        "}\n",
        "pbt = PbtOptimizer(hyperparam_mutations)"
      ],
      "execution_count": 7,
      "outputs": []
    },
    {
      "cell_type": "code",
      "metadata": {
        "id": "BhEbUSY6Vs-r"
      },
      "source": [
        "ppo.restart()\n",
        "analysis = ppo.tune(tune_config, stop_criteria, scheduler=pbt.scheduler, num_samples=4)\n",
        "best_config =  analysis.get_best_config(metric=\"episode_reward_mean\", mode=\"max\")\n",
        "print(\"Best hyperparameters found: \", best_config)"
      ],
      "execution_count": null,
      "outputs": []
    },
    {
      "cell_type": "code",
      "metadata": {
        "id": "AjOOMnKkZ3Jg"
      },
      "source": [
        "best_config = {\n",
        "    \"observation_filter\": \"MeanStdFilter\",\n",
        "    \"model\": {\"free_log_std\": True},\n",
        "    \"num_sgd_iter\": 10,\n",
        "    \"sgd_minibatch_size\": 128,\n",
        "    \"lambda\": 0.731396,\n",
        "    \"clip_param\": 0.317651,\n",
        "    \"lr\": 5e-05,\n",
        "    \"train_batch_size\": 18812,\n",
        "}"
      ],
      "execution_count": null,
      "outputs": []
    },
    {
      "cell_type": "markdown",
      "metadata": {
        "id": "DyptyrNeTgnA"
      },
      "source": [
        "### Training"
      ]
    },
    {
      "cell_type": "code",
      "metadata": {
        "id": "rsi17r9uSE-2"
      },
      "source": [
        "ppo = PPOAgent(\"wastenet_ppo_train\", best_config, WasteNetEnv, {})\n",
        "ppo.train(num_iter=200)"
      ],
      "execution_count": null,
      "outputs": []
    },
    {
      "cell_type": "code",
      "metadata": {
        "id": "SE5CrWozRLDS"
      },
      "source": [
        "policy = ppo.agent.get_policy()\n",
        "model = policy.model\n",
        "print(model.base_model.summary())"
      ],
      "execution_count": null,
      "outputs": []
    },
    {
      "cell_type": "markdown",
      "metadata": {
        "id": "_P4Tl-1zsU2h"
      },
      "source": [
        "### Testing"
      ]
    },
    {
      "cell_type": "code",
      "metadata": {
        "id": "3_hBOp4kVTQ5"
      },
      "source": [
        "# ppo = PPOAgent(\"wastenet_ppo_test\", best_config, WasteNetEnv, {})\n",
        "# ppo.load(\"checkpoints/checkpoint-best\")\n",
        "ppo.test(num_episodes=1000)"
      ],
      "execution_count": null,
      "outputs": []
    },
    {
      "cell_type": "markdown",
      "metadata": {
        "id": "qVaoPUTNToBF"
      },
      "source": [
        "### Visualization"
      ]
    },
    {
      "cell_type": "code",
      "metadata": {
        "id": "St6gMyOST3_y"
      },
      "source": [
        "!zip -r /root/ray_results.zip /root/ray_results"
      ],
      "execution_count": null,
      "outputs": []
    },
    {
      "cell_type": "code",
      "metadata": {
        "id": "_qdEKhi5sWoX"
      },
      "source": [
        "%load_ext tensorboard \n",
        "%tensorboard --logdir=\"/root/ray_results/\""
      ],
      "execution_count": null,
      "outputs": []
    }
  ]
}