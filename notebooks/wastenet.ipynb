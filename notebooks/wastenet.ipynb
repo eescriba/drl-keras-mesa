{
  "nbformat": 4,
  "nbformat_minor": 0,
  "metadata": {
    "language_info": {
      "codemirror_mode": {
        "name": "ipython",
        "version": 3
      },
      "file_extension": ".py",
      "mimetype": "text/x-python",
      "name": "python",
      "nbconvert_exporter": "python",
      "pygments_lexer": "ipython3",
      "version": "3.8.7"
    },
    "orig_nbformat": 2,
    "kernelspec": {
      "name": "python3",
      "display_name": "Python 3.8.7 64-bit ('mesa-keras-rl-G6B7A4dF': pipenv)",
      "metadata": {
        "interpreter": {
          "hash": "02f89b5465a516aeca281cdc6934ff926772e9d915d9e8c15a08f584e0cc5517"
        }
      }
    },
    "colab": {
      "name": "rllib.ipynb",
      "provenance": []
    },
    "accelerator": "GPU"
  },
  "cells": [
    {
      "cell_type": "markdown",
      "metadata": {
        "id": "fO9547wOqrGb"
      },
      "source": [
        "# WasteNet"
      ]
    },
    {
      "cell_type": "markdown",
      "metadata": {
        "id": "BWzkFkIFqz4C"
      },
      "source": [
        "## Setup"
      ]
    },
    {
      "cell_type": "code",
      "metadata": {
        "id": "2pLSISOhRLDK"
      },
      "source": [
        "!rm -r smart-cities-drl\n",
        "!git clone https://github.com/eescriba/smart-cities-drl\n",
        "!cd smart-cities-drl/ && pip install -e .\n",
        "!pip install ray[rllib]"
      ],
      "execution_count": null,
      "outputs": []
    },
    {
      "cell_type": "code",
      "metadata": {
        "id": "Qv2IiHGYRLDQ"
      },
      "source": [
        "import json\n",
        "import shutil\n",
        "\n",
        "import gym\n",
        "import ray\n",
        "import ray.rllib.agents.ppo as ppo\n",
        "from ray.tune import run, sample_from\n",
        "from ray.tune.schedulers import PopulationBasedTraining\n",
        "\n",
        "import sys\n",
        "sys.path.insert(0,'./smart-cities-drl/src/')\n",
        "from wastenet.env import WasteNetEnv"
      ],
      "execution_count": null,
      "outputs": []
    },
    {
      "cell_type": "markdown",
      "metadata": {
        "id": "6Hrqtufqq24H"
      },
      "source": [
        "## Proximal Policy Optimization (PPO)"
      ]
    },
    {
      "cell_type": "code",
      "metadata": {
        "id": "rsi17r9uSE-2"
      },
      "source": [
        "ray.shutdown()\n",
        "ray.init(ignore_reinit_error=True)\n",
        "\n",
        "CHECKPOINT_ROOT = \"tmp/ppo/wastenet\"\n",
        "shutil.rmtree(CHECKPOINT_ROOT, ignore_errors=True, onerror=None)\n",
        "\n",
        "config = ppo.DEFAULT_CONFIG.copy()\n",
        "config[\"num_gpus\"] = 1\n",
        "\n",
        "agent = ppo.PPOTrainer(config, env=WasteNetEnv)\n",
        "\n",
        "N_ITER = 1000\n",
        "results = []\n",
        "episode_data = []\n",
        "episode_json = []\n",
        "\n",
        "for n in range(N_ITER):\n",
        "    result = agent.train()\n",
        "    results.append(result)\n",
        "    \n",
        "    episode = {'n': n, \n",
        "               'episode_reward_min': result['episode_reward_min'], \n",
        "               'episode_reward_mean': result['episode_reward_mean'], \n",
        "               'episode_reward_max': result['episode_reward_max'],  \n",
        "               'episode_len_mean': result['episode_len_mean']\n",
        "              }\n",
        "    \n",
        "    episode_data.append(episode)\n",
        "    episode_json.append(json.dumps(episode))\n",
        "    file_name = agent.save(CHECKPOINT_ROOT)\n",
        "    \n",
        "    print(f'{n+1:3d}: Min/Mean/Max reward: {result[\"episode_reward_min\"]:8.4f}/{result[\"episode_reward_mean\"]:8.4f}/{result[\"episode_reward_max\"]:8.4f}, len mean: {result[\"episode_len_mean\"]:8.4f}. Checkpoint saved to {file_name}')"
      ],
      "execution_count": null,
      "outputs": []
    },
    {
      "cell_type": "code",
      "metadata": {
        "id": "SE5CrWozRLDS"
      },
      "source": [
        "policy = agent.get_policy()\n",
        "model = policy.model\n",
        "print(model.base_model.summary())"
      ],
      "execution_count": null,
      "outputs": []
    },
    {
      "cell_type": "code",
      "metadata": {
        "id": "ksAzVMllRLDT"
      },
      "source": [
        "obs = env.reset()\n",
        "done = False\n",
        "episode_reward = 0\n",
        "sum_reward = 0\n",
        "n_step = 1000\n",
        "for step in range(n_step):\n",
        "    action = agent.compute_action(obs)\n",
        "    print(action)\n",
        "    state, reward, done, info = env.step(action)\n",
        "    print(state, reward, done, info)\n",
        "    sum_reward += reward\n",
        "    if done:\n",
        "        print(\"cumulative reward\", sum_reward)\n",
        "        state = env.reset()\n",
        "        sum_reward = 0"
      ],
      "execution_count": null,
      "outputs": []
    },
    {
      "cell_type": "markdown",
      "metadata": {
        "id": "MlAmQqXoq71o"
      },
      "source": [
        "## Tuned PPO"
      ]
    },
    {
      "cell_type": "markdown",
      "metadata": {
        "id": "V-oyOCU-rbkJ"
      },
      "source": [
        "### Population Based Training (PBT)"
      ]
    },
    {
      "cell_type": "code",
      "metadata": {
        "id": "UfvgFrTfq9Hr"
      },
      "source": [
        "# Postprocess the perturbed config to ensure it's still valid used if PBT.\n",
        "def explore(config):\n",
        "    # ensure we collect enough timesteps to do sgd\n",
        "    if config[\"train_batch_size\"] < config[\"sgd_minibatch_size\"] * 2:\n",
        "        config[\"train_batch_size\"] = config[\"sgd_minibatch_size\"] * 2\n",
        "    # ensure we run at least one sgd iter\n",
        "    if config[\"num_sgd_iter\"] < 1:\n",
        "        config[\"num_sgd_iter\"] = 1\n",
        "    return config\n",
        "\n",
        "pbt = PopulationBasedTraining(\n",
        "    time_attr=\"time_total_s\",\n",
        "    perturbation_interval=120,\n",
        "    resample_probability=0.25,\n",
        "    metric=\"episode_reward_mean\",\n",
        "    mode=\"max\",\n",
        "    # Specifies the mutations of these hyperparams\n",
        "    hyperparam_mutations={\n",
        "        \"lambda\": lambda: random.uniform(0.9, 1.0),\n",
        "        \"clip_param\": lambda: random.uniform(0.01, 0.5),\n",
        "        \"lr\": [1e-3, 5e-4, 1e-4, 5e-5, 1e-5],\n",
        "        \"num_sgd_iter\": lambda: random.randint(1, 30),\n",
        "        \"sgd_minibatch_size\": lambda: random.randint(128, 16384),\n",
        "        \"train_batch_size\": lambda: random.randint(2000, 160000),\n",
        "    },\n",
        "    custom_explore_fn=explore)"
      ],
      "execution_count": null,
      "outputs": []
    },
    {
      "cell_type": "code",
      "metadata": {
        "id": "LOZuAb85sjQR"
      },
      "source": [
        "analysis = run(\n",
        "        'PPO',\n",
        "        name=\"prueba_ppo\",\n",
        "        scheduler=pbt,\n",
        "        num_samples=8,\n",
        "        config={\n",
        "            \"env\": WasteNetEnv,\n",
        "            \"seed\": 123,\n",
        "            \"kl_coeff\": 1.0,\n",
        "            \"num_gpus\": 1,\n",
        "            \"num_workers\": 1,\n",
        "            \"observation_filter\": \"MeanStdFilter\",\n",
        "            \"model\": {\n",
        "                # \"fcnet_hiddens\": [\n",
        "                #     32,\n",
        "                #     32\n",
        "                # ],\n",
        "                \"free_log_std\": True\n",
        "            },\n",
        "            \"num_sgd_iter\": 10,\n",
        "            \"sgd_minibatch_size\": 128,\n",
        "            \"lambda\": sample_from(lambda spec: random.uniform(0.9, 1.0)),\n",
        "            \"clip_param\": sample_from(lambda spec: random.uniform(0.1, 0.5)),\n",
        "            \"lr\": sample_from(lambda spec: random.uniform(1e-3, 1e-5)),\n",
        "            \"train_batch_size\": sample_from(\n",
        "                lambda spec: random.randint(1000, 60000))\n",
        "        })\n",
        "print(\"best hyperparameters: \", analysis.best_config)"
      ],
      "execution_count": null,
      "outputs": []
    },
    {
      "cell_type": "markdown",
      "metadata": {
        "id": "_P4Tl-1zsU2h"
      },
      "source": [
        "## Evaluation"
      ]
    },
    {
      "cell_type": "code",
      "metadata": {
        "id": "t2dIN-hNsXOM"
      },
      "source": [
        "!rllib rollout ..."
      ],
      "execution_count": null,
      "outputs": []
    },
    {
      "cell_type": "code",
      "metadata": {
        "id": "_qdEKhi5sWoX"
      },
      "source": [
        "!tensorboard --logdir=$HOME/ray_results/"
      ],
      "execution_count": null,
      "outputs": []
    }
  ]
}