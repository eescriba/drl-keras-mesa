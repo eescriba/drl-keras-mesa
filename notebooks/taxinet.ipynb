{
  "nbformat": 4,
  "nbformat_minor": 0,
  "metadata": {
    "language_info": {
      "codemirror_mode": {
        "name": "ipython",
        "version": 3
      },
      "file_extension": ".py",
      "mimetype": "text/x-python",
      "name": "python",
      "nbconvert_exporter": "python",
      "pygments_lexer": "ipython3",
      "version": "3.8.7-final"
    },
    "orig_nbformat": 2,
    "kernelspec": {
      "name": "python3",
      "display_name": "Python 3.8.7 64-bit ('mesa-keras-rl': pipenv)",
      "metadata": {
        "interpreter": {
          "hash": "02f89b5465a516aeca281cdc6934ff926772e9d915d9e8c15a08f584e0cc5517"
        }
      }
    },
    "colab": {
      "name": "taxinet.ipynb",
      "provenance": []
    }
  },
  "cells": [
    {
      "cell_type": "code",
      "metadata": {
        "id": "bu_Vfvki_I7f",
        "outputId": "cbc3c6c4-7bb3-4887-8540-9450407414da",
        "colab": {
          "base_uri": "https://localhost:8080/"
        }
      },
      "source": [
        "!rm -r mesa-keras-rl\n",
        "!git clone https://github.com/eescriba/mesa-keras-rl\n",
        "!cd mesa-keras-rl/ && pip install -e .\n"
      ],
      "execution_count": 17,
      "outputs": [
        {
          "output_type": "stream",
          "text": [
            "rm: cannot remove 'mesa-keras-rl': No such file or directory\n",
            "Cloning into 'mesa-keras-rl'...\n",
            "remote: Enumerating objects: 429, done.\u001b[K\n",
            "remote: Counting objects: 100% (429/429), done.\u001b[K\n",
            "remote: Compressing objects: 100% (312/312), done.\u001b[K\n",
            "remote: Total 429 (delta 118), reused 389 (delta 82), pack-reused 0\u001b[K\n",
            "Receiving objects: 100% (429/429), 811.82 KiB | 12.68 MiB/s, done.\n",
            "Resolving deltas: 100% (118/118), done.\n",
            "\u001b[31mERROR: File \"setup.py\" not found. Directory cannot be installed in editable mode: /content\u001b[0m\n"
          ],
          "name": "stdout"
        }
      ]
    },
    {
      "cell_type": "code",
      "metadata": {
        "id": "yytsGCs2_I7k"
      },
      "source": [
        "import gym\n",
        "import numpy as np\n",
        "\n",
        "from tensorflow.keras.models import Sequential\n",
        "from tensorflow.keras.layers import Dense, Activation, Flatten, Embedding, Reshape\n",
        "from tensorflow.keras.optimizers import Adam\n",
        "\n",
        "from rl.agents.dqn import DQNAgent\n",
        "from rl.policy import EpsGreedyQPolicy\n",
        "from rl.memory import SequentialMemory\n",
        "\n",
        "\n",
        "from mobility.taxinet.env import TaxiNetEnv"
      ],
      "execution_count": 21,
      "outputs": []
    },
    {
      "cell_type": "code",
      "metadata": {
        "id": "rhrdUO3O_I7k",
        "outputId": "a57a3bf5-a9d1-4ab1-dc52-e6274b11e7f9",
        "colab": {
          "base_uri": "https://localhost:8080/"
        }
      },
      "source": [
        "env = TaxiNetEnv(file_path=\"mesa-keras-rl/src/envs/mobility/resources/city.txt\")\n",
        "env.seed(123)\n",
        "action_size = env.action_space.n\n",
        "env.reset()"
      ],
      "execution_count": 24,
      "outputs": [
        {
          "output_type": "execute_result",
          "data": {
            "text/plain": [
              "31850"
            ]
          },
          "metadata": {
            "tags": []
          },
          "execution_count": 24
        }
      ]
    },
    {
      "cell_type": "code",
      "metadata": {
        "id": "F90iJIeq_I7l",
        "outputId": "7f951ac2-4c2f-4ba3-947b-3fc1c596f269",
        "colab": {
          "base_uri": "https://localhost:8080/"
        }
      },
      "source": [
        "model = Sequential()\n",
        "model.add(Embedding(45000, 10, input_length=1))\n",
        "model.add(Reshape((10,)))\n",
        "model.add(Dense(4500, activation='relu'))\n",
        "model.add(Dense(4500, activation='relu'))\n",
        "model.add(Dense(4500, activation='relu'))\n",
        "model.add(Dense(action_size, activation='linear'))\n",
        "print(model.summary())"
      ],
      "execution_count": 25,
      "outputs": [
        {
          "output_type": "stream",
          "text": [
            "Model: \"sequential_1\"\n",
            "_________________________________________________________________\n",
            "Layer (type)                 Output Shape              Param #   \n",
            "=================================================================\n",
            "embedding_1 (Embedding)      (None, 1, 10)             450000    \n",
            "_________________________________________________________________\n",
            "reshape_1 (Reshape)          (None, 10)                0         \n",
            "_________________________________________________________________\n",
            "dense_4 (Dense)              (None, 4500)              49500     \n",
            "_________________________________________________________________\n",
            "dense_5 (Dense)              (None, 4500)              20254500  \n",
            "_________________________________________________________________\n",
            "dense_6 (Dense)              (None, 4500)              20254500  \n",
            "_________________________________________________________________\n",
            "dense_7 (Dense)              (None, 6)                 27006     \n",
            "=================================================================\n",
            "Total params: 41,035,506\n",
            "Trainable params: 41,035,506\n",
            "Non-trainable params: 0\n",
            "_________________________________________________________________\n",
            "None\n"
          ],
          "name": "stdout"
        }
      ]
    },
    {
      "cell_type": "code",
      "metadata": {
        "id": "9l1uoLNN_I7l"
      },
      "source": [
        "memory = SequentialMemory(limit=50000, window_length=1)\n",
        "policy = EpsGreedyQPolicy()\n",
        "dqn = DQNAgent(model=model, nb_actions=action_size, memory=memory, nb_steps_warmup=500, target_model_update=1e-2, policy=policy)\n",
        "dqn.compile(Adam(lr=1e-3), metrics=['mae'])"
      ],
      "execution_count": null,
      "outputs": []
    },
    {
      "cell_type": "code",
      "metadata": {
        "id": "lLjtpa4q_I7m"
      },
      "source": [
        "dqn.fit(env, nb_steps=1000000, visualize=False, verbose=1, nb_max_episode_steps=99, log_interval=100000)"
      ],
      "execution_count": null,
      "outputs": []
    },
    {
      "cell_type": "code",
      "metadata": {
        "id": "ugtATgaR_I7m"
      },
      "source": [
        "dqn.save_weights('dqn_{}_weights.h5f'.format(ENV_NAME), overwrite=True)"
      ],
      "execution_count": null,
      "outputs": []
    },
    {
      "cell_type": "code",
      "metadata": {
        "id": "2gjvDutR_I7m"
      },
      "source": [
        "dqn.test(env, nb_episodes=5 , visualize=False, nb_max_episode_steps=99)"
      ],
      "execution_count": null,
      "outputs": []
    }
  ]
}